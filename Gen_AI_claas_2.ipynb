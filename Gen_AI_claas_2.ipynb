{
  "nbformat": 4,
  "nbformat_minor": 0,
  "metadata": {
    "colab": {
      "provenance": [],
      "authorship_tag": "ABX9TyPXByeurkWCrIDOUZOWTvVP",
      "include_colab_link": true
    },
    "kernelspec": {
      "name": "python3",
      "display_name": "Python 3"
    },
    "language_info": {
      "name": "python"
    }
  },
  "cells": [
    {
      "cell_type": "markdown",
      "metadata": {
        "id": "view-in-github",
        "colab_type": "text"
      },
      "source": [
        "<a href=\"https://colab.research.google.com/github/ZainabRashid/testingabc/blob/main/Gen_AI_claas_2.ipynb\" target=\"_parent\"><img src=\"https://colab.research.google.com/assets/colab-badge.svg\" alt=\"Open In Colab\"/></a>"
      ]
    },
    {
      "cell_type": "code",
      "execution_count": null,
      "metadata": {
        "id": "7WBbSVYddVtE",
        "colab": {
          "base_uri": "https://localhost:8080/"
        },
        "outputId": "e3bfbef4-b253-4879-c3dc-690b934e4f43"
      },
      "outputs": [
        {
          "name": "stdout",
          "output_type": "stream",
          "text": [
            "plz entyer your age :252344t5\n",
            "plz enter your name :posixefgfgnfh\n"
          ]
        }
      ],
      "source": [
        "\n",
        "\n"
      ]
    },
    {
      "cell_type": "code",
      "source": [
        "print(\"enter your name \")\n",
        "name=input()\n",
        "print(\"Your name is : \"+ name)\n",
        "print(\"Enter your age \")\n",
        "age=int(input())\n",
        "b=10\n",
        "sum= age+b\n",
        "print(name+ \"! your age will be \"+  str(sum) +\" after 10 years\")"
      ],
      "metadata": {
        "id": "9-cyd577IuZh",
        "colab": {
          "base_uri": "https://localhost:8080/"
        },
        "outputId": "01bd9b5b-4d98-41ba-c1a1-834be3cc8021"
      },
      "execution_count": null,
      "outputs": [
        {
          "output_type": "stream",
          "name": "stdout",
          "text": [
            "enter your name \n",
            "Ali\n",
            "Your name is : Ali\n",
            "Enter your age \n",
            "22\n",
            "Ali! your age will be 32 after 10 years\n"
          ]
        }
      ]
    },
    {
      "cell_type": "code",
      "source": [
        "list=[5,10,15,20,25,30,35,40,45,50]\n",
        "list.insert(9,45.5)\n",
        "list[6]=37\n",
        "list.insert(6 , 'Zainab')\n",
        "del list[4]\n",
        "del list[3]\n",
        "list.extend([\"Multiples of 5\"])\n",
        "print(list)\n",
        "\n"
      ],
      "metadata": {
        "id": "HDs13VF_JU94",
        "colab": {
          "base_uri": "https://localhost:8080/"
        },
        "outputId": "9418f4cd-8907-4458-c3f1-bec3217e6230"
      },
      "execution_count": null,
      "outputs": [
        {
          "output_type": "stream",
          "name": "stdout",
          "text": [
            "[5, 10, 15, 30, 'Zainab', 37, 40, 45, 45.5, 50, 'Multiples of 5']\n"
          ]
        }
      ]
    },
    {
      "cell_type": "code",
      "source": [
        "text= input(\"Enter your text:\")\n",
        "words=text.split(\",\")\n",
        "print(words)"
      ],
      "metadata": {
        "id": "aA8uFqvBkj4m"
      },
      "execution_count": null,
      "outputs": []
    }
  ]
}