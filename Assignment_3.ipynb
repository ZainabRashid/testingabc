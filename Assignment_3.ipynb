{
  "cells": [
    {
      "cell_type": "markdown",
      "metadata": {
        "id": "view-in-github",
        "colab_type": "text"
      },
      "source": [
        "<a href=\"https://colab.research.google.com/github/ZainabRashid/testingabc/blob/main/Assignment_3.ipynb\" target=\"_parent\"><img src=\"https://colab.research.google.com/assets/colab-badge.svg\" alt=\"Open In Colab\"/></a>"
      ]
    },
    {
      "cell_type": "code",
      "execution_count": null,
      "metadata": {
        "id": "XgPLbwAAFoA6"
      },
      "outputs": [],
      "source": [
        "numb=int(input(\"enter a number\"))\n",
        "if numb > 0 :\n",
        "  print(\" This is a positve integer\")\n",
        "elif numb < 0 :\n",
        "   print(\" This is a negative integer\")\n",
        "else :\n",
        "   print(\" Number is eqaul to 0\")\n"
      ]
    },
    {
      "cell_type": "code",
      "execution_count": null,
      "metadata": {
        "colab": {
          "background_save": true,
          "base_uri": "https://localhost:8080/"
        },
        "id": "fV0a7owGH7CZ",
        "outputId": "ce11642e-c130-467a-932c-d687eda0a15f"
      },
      "outputs": [
        {
          "name": "stdout",
          "output_type": "stream",
          "text": [
            "Your name is :Zainab\n",
            "Your age is:25\n",
            "You are an adult\n",
            "Your education is :BSE\n",
            "You are qualified enough\n",
            "Your gpa is : 3.3\n",
            "You have an A grade\n"
          ]
        }
      ],
      "source": [
        "name = input(\"Enter your name\")\n",
        "print(\"Your name is :\" + name)\n",
        "age = int(input(\" Enter your age \"))\n",
        "print(\"Your age is:\" + str(age))\n",
        "if age>=18:\n",
        "  print(\"You are an adult\")\n",
        "elif age<18:\n",
        "  print(\"You are not an adult you are a kid\")\n",
        "edu=input(str(\"Please enter you education\"))\n",
        "print(\"Your education is :\" + edu)\n",
        "Years_of_edu=int(input(\"Enter how many years of education you have completed till now\"))\n",
        "if Years_of_edu >= 16:\n",
        "  print(\"You are qualified enough\")\n",
        "elif   Years_of_edu< 16 :\n",
        "    print(\"You are under qualified\")\n",
        "def get_grade(gpa) :\n",
        "    print(\"Your gpa is : \" + str(gpa))\n",
        "gpa= float(input(\"Enter your GPA\"))\n",
        "print(\"Your gpa is : \" + str(gpa))\n",
        "if 3.5 <= gpa <=4.00 :\n",
        "   print(\"You have got an A+ garde in you\")\n",
        "elif  3.00 <= gpa<3.5 :\n",
        "  print(\"You have an A grade\")\n",
        "elif  2.5 <=gpa< 3.00 :\n",
        "  print(\"You have a B grade\")\n",
        "elif  2.00 <= gpa <2.5 :\n",
        "  print(\" You have a C grade\")\n",
        "else :\n",
        "  print(\" You got F grade\")\n",
        "Dob=str(input(\" Enter your date of birth\"))\n",
        "print(\"You were born on : \" +str(Dob))\n",
        "if Dob<2000 :\n",
        "  print(\" you were born in 20th century\")\n",
        "elif Dob>=2000 :\n",
        "  print(\"you were born in 21st century\")\n",
        "elif Dob<=1995 :\n",
        " print  (\"You are a milliniel\")\n",
        "elif Dob<=1997:\n",
        "  print(\"You are a Gen Z\")\n",
        "siblings=int(input(\"How many siblings do you have\"))\n",
        "print(\"You have :\"+ str(siblings)+ \" siblings in total\")\n",
        "brother=int(input(\"How many brothers do you have:\"))\n",
        "if brother> 1:\n",
        "  print(\"You have :\"+ str(brother)+ \"brothers\")\n",
        "elif brother==1 :\n",
        "  print(\"You have 1 brother\")\n",
        "else :\n",
        "  print(\"You have no brother\")\n",
        "Sister=int(input(\"How many sisters do you have : \"))\n",
        "if Sister>1:\n",
        "  print(\"You have:\"+ str(Sister)+\"sisters\")\n",
        "elif Sister == 1 :\n",
        "  print(\"You have 1 sister\")\n",
        "else :\n",
        "   print(\"You have no sister\")\n",
        "\n",
        "\n"
      ]
    },
    {
      "cell_type": "code",
      "execution_count": null,
      "metadata": {
        "id": "9m8dSAbZ-wUm",
        "colab": {
          "base_uri": "https://localhost:8080/"
        },
        "outputId": "7f3f919f-ef76-4486-b09b-7a34b14aecd3"
      },
      "outputs": [
        {
          "output_type": "stream",
          "name": "stdout",
          "text": [
            "Please enter a number4\n",
            "Factorial of  24\n"
          ]
        }
      ],
      "source": [
        "num=int(input(\"Please enter a number\"))\n",
        "factorial=1\n",
        "\n",
        "for i in range(1,num+1):\n",
        "\n",
        "   factorial*=i\n",
        "print(\"Factorial of \",factorial)"
      ]
    },
    {
      "cell_type": "code",
      "execution_count": 10,
      "metadata": {
        "id": "d2R83f89TW40",
        "colab": {
          "base_uri": "https://localhost:8080/"
        },
        "outputId": "2ce616e9-016f-4495-b6f0-6cf6357f79db"
      },
      "outputs": [
        {
          "output_type": "stream",
          "name": "stdout",
          "text": [
            "Your passwords must contain atleat 8 charecter including number, both upper and lower case alphabates , symblos digits\n",
            "Enter a strong and valid passwords\n",
            "Please enter a valid passwordZainab27\n",
            "password : Zainab27\n",
            "Your password is valid\n"
          ]
        }
      ],
      "source": [
        "print(\"Your passwords must contain atleat 8 charecter including number, both upper and lower case alphabates , symblos, digits\")\n",
        "print(\"Enter a strong and valid passwords\")\n",
        "password=str(input(\"Please enter a valid password\"))\n",
        "print(\"password : \" + password)\n",
        "uppercase_count=0\n",
        "lowercase_count=0\n",
        "for char in password :\n",
        " if char.isupper():\n",
        "    uppercase_count += 1\n",
        " if char.islower():\n",
        "    lowercase_count += 1\n",
        "if len(password)>=8 and uppercase_count> 0 and lowercase_count>0  :\n",
        "   print(\"Your password is valid\")\n",
        "else:\n",
        "  print (\"Your password is invalid\")\n",
        "\n",
        "\n"
      ]
    },
    {
      "cell_type": "code",
      "execution_count": 24,
      "metadata": {
        "id": "f1-heI3TAgBk",
        "colab": {
          "base_uri": "https://localhost:8080/"
        },
        "outputId": "81e7fb6e-5e63-4236-f040-10685f7a71ee"
      },
      "outputs": [
        {
          "output_type": "stream",
          "name": "stdout",
          "text": [
            "Please enter an even number10\n",
            "Sum of even number from 1 to n 10 is 30\n"
          ]
        }
      ],
      "source": [
        "from re import X\n",
        "n=int(input(\"Please enter an even number\"))\n",
        "sum=0\n",
        "for x in range(2,n+1,2):\n",
        "  sum+=x\n",
        "print(\"Sum of even number from 1 to n\", n, \"is\", sum)\n"
      ]
    },
    {
      "cell_type": "code",
      "execution_count": 39,
      "metadata": {
        "id": "B3F_BkblGu0S",
        "colab": {
          "base_uri": "https://localhost:8080/"
        },
        "outputId": "afc6b789-a52a-45d9-bf82-ab229f04156b"
      },
      "outputs": [
        {
          "output_type": "stream",
          "name": "stdout",
          "text": [
            "Enter a number3\n",
            "011"
          ]
        }
      ],
      "source": [
        "Num=int(input(\"Enter a number\"))\n",
        "a,b=0,1\n",
        "for x in range(Num):\n",
        "  print(a,end='')\n",
        "  a,b=b,a+b\n",
        ""
      ]
    }
  ],
  "metadata": {
    "colab": {
      "provenance": [],
      "authorship_tag": "ABX9TyOQoRQJRR65JtFIThnMdu+n",
      "include_colab_link": true
    },
    "kernelspec": {
      "display_name": "Python 3",
      "name": "python3"
    },
    "language_info": {
      "name": "python"
    }
  },
  "nbformat": 4,
  "nbformat_minor": 0
}